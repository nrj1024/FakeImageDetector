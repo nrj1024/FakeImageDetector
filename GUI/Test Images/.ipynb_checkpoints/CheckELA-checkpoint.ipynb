{
 "cells": [
  {
   "cell_type": "code",
   "execution_count": 6,
   "metadata": {},
   "outputs": [],
   "source": [
    "from PIL import Image, ImageChops, ImageEnhance, ImageFilter\n",
    "import numpy as np"
   ]
  },
  {
   "cell_type": "code",
   "execution_count": 7,
   "metadata": {},
   "outputs": [],
   "source": [
    "def convert_to_ela_image(path, quality,intensity=None):\n",
    "    filename = path\n",
    "    resaved_filename = 'tempresaved.jpg'\n",
    "    ELA_filename = 'tempela.png' \n",
    "    im = Image.open(filename).convert('RGB')\n",
    "    im.save(resaved_filename, 'JPEG', quality = quality)\n",
    "    resaved_im = Image.open(resaved_filename)\n",
    "      \n",
    "    ela_im = ImageChops.difference(im, resaved_im)\n",
    "      \n",
    "    extrema = ela_im.getextrema()\n",
    "    max_diff = max([ex[1] for ex in extrema])\n",
    "    if max_diff == 0:\n",
    "        max_diff = 1\n",
    "    scale = 255.0 / max_diff\n",
    "    if intensity==None:\n",
    "        ela_im = ImageEnhance.Brightness(ela_im).enhance(scale)\n",
    "    else:\n",
    "        ela_im = ImageEnhance.Brightness(ela_im).enhance(intensity)\n",
    "    return  ela_im"
   ]
  },
  {
   "cell_type": "code",
   "execution_count": 8,
   "metadata": {},
   "outputs": [
    {
     "data": {
      "text/plain": [
       "4400.139896373057"
      ]
     },
     "execution_count": 8,
     "metadata": {},
     "output_type": "execute_result"
    }
   ],
   "source": [
    "img=convert_to_ela_image('Sp_D_CNN_A_art0024_ani0032_0268.jpg', 90).resize((256,256))\n",
    "img=img.getchannel('B')\n",
    "np.sum(np.array(img)/np.max(img))"
   ]
  },
  {
   "cell_type": "code",
   "execution_count": null,
   "metadata": {},
   "outputs": [],
   "source": []
  }
 ],
 "metadata": {
  "kernelspec": {
   "display_name": "Python 3",
   "language": "python",
   "name": "python3"
  },
  "language_info": {
   "codemirror_mode": {
    "name": "ipython",
    "version": 3
   },
   "file_extension": ".py",
   "mimetype": "text/x-python",
   "name": "python",
   "nbconvert_exporter": "python",
   "pygments_lexer": "ipython3",
   "version": "3.8.5"
  }
 },
 "nbformat": 4,
 "nbformat_minor": 4
}
